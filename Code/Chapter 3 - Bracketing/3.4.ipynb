{
 "cells": [
  {
   "cell_type": "code",
   "execution_count": 1,
   "metadata": {},
   "outputs": [
    {
     "data": {
      "text/latex": [
       "\\[\\left[ \\begin{array}{rrr}1&a&a^{2}\\\\1&b&b^{2}\\\\1&c&c^{2}\\end{array}\\right]\\]"
      ],
      "text/plain": [
       "3×3 Array{Sym,2}:\n",
       " 1  a  a^2\n",
       " 1  b  b^2\n",
       " 1  c  c^2"
      ]
     },
     "execution_count": 1,
     "metadata": {},
     "output_type": "execute_result"
    }
   ],
   "source": [
    "using SymPy\n",
    "\n",
    "@vars p1 p2 p3 a b c Ya Yb Yc X\n",
    "\n",
    "A = [1 a a^2; 1 b b^2; 1 c c^2]"
   ]
  },
  {
   "cell_type": "code",
   "execution_count": 2,
   "metadata": {},
   "outputs": [
    {
     "data": {
      "text/latex": [
       "\\[ \\left[ \\begin{array}{r}Ya\\\\Yb\\\\Yc\\end{array} \\right] \\]"
      ],
      "text/plain": [
       "3-element Array{Sym,1}:\n",
       " Ya\n",
       " Yb\n",
       " Yc"
      ]
     },
     "execution_count": 2,
     "metadata": {},
     "output_type": "execute_result"
    }
   ],
   "source": [
    "B = [Ya; Yb; Yc]"
   ]
  },
  {
   "cell_type": "code",
   "execution_count": 3,
   "metadata": {},
   "outputs": [
    {
     "data": {
      "text/latex": [
       "\\[ \\left[ \\begin{array}{r}\\frac{Ya b c}{a^{2} - a b - a c + b c} - \\frac{Yb a c}{a b - a c - b^{2} + b c} + \\frac{Yc a b}{a b - a c - b c + c^{2}}\\\\- \\frac{Ya \\left(b + c\\right)}{a^{2} - a b - a c + b c} + \\frac{Yb \\left(a + c\\right)}{a b - a c - b^{2} + b c} - \\frac{Yc \\left(a + b\\right)}{a b - a c - b c + c^{2}}\\\\\\frac{Ya}{a^{2} - a b - a c + b c} - \\frac{Yb}{a b - a c - b^{2} + b c} + \\frac{Yc}{a b - a c - b c + c^{2}}\\end{array} \\right] \\]"
      ],
      "text/plain": [
       "3-element Array{Sym,1}:\n",
       "              Ya*b*c/(a^2 - a*b - a*c + b*c) - Yb*a*c/(a*b - a*c - b^2 + b*c) + Yc*a*b/(a*b - a*c - b*c + c^2)\n",
       " -Ya*(b + c)/(a^2 - a*b - a*c + b*c) + Yb*(a + c)/(a*b - a*c - b^2 + b*c) - Yc*(a + b)/(a*b - a*c - b*c + c^2)\n",
       "                          Ya/(a^2 - a*b - a*c + b*c) - Yb/(a*b - a*c - b^2 + b*c) + Yc/(a*b - a*c - b*c + c^2)"
      ]
     },
     "execution_count": 3,
     "metadata": {},
     "output_type": "execute_result"
    }
   ],
   "source": [
    "C = inv(A)*B"
   ]
  },
  {
   "cell_type": "code",
   "execution_count": 4,
   "metadata": {},
   "outputs": [
    {
     "data": {
      "text/latex": [
       "\\begin{equation*}X^{2} \\left(\\frac{Ya}{a^{2} - a b - a c + b c} - \\frac{Yb}{a b - a c - b^{2} + b c} + \\frac{Yc}{a b - a c - b c + c^{2}}\\right) + X \\left(- \\frac{Ya \\left(b + c\\right)}{a^{2} - a b - a c + b c} + \\frac{Yb \\left(a + c\\right)}{a b - a c - b^{2} + b c} - \\frac{Yc \\left(a + b\\right)}{a b - a c - b c + c^{2}}\\right) + \\frac{Ya b c}{a^{2} - a b - a c + b c} - \\frac{Yb a c}{a b - a c - b^{2} + b c} + \\frac{Yc a b}{a b - a c - b c + c^{2}}\\end{equation*}"
      ],
      "text/plain": [
       " 2 ⎛         Ya                     Yb                     Yc         ⎞     ⎛ \n",
       "X ⋅⎜──────────────────── - ──────────────────── + ────────────────────⎟ + X⋅⎜-\n",
       "   ⎜ 2                                  2                            2⎟     ⎜ \n",
       "   ⎝a  - a⋅b - a⋅c + b⋅c   a⋅b - a⋅c - b  + b⋅c   a⋅b - a⋅c - b⋅c + c ⎠     ⎝ \n",
       "\n",
       "      Ya⋅(b + c)             Yb⋅(a + c)             Yc⋅(a + b)     ⎞          \n",
       " ──────────────────── + ──────────────────── - ────────────────────⎟ + ───────\n",
       "  2                                  2                            2⎟    2     \n",
       " a  - a⋅b - a⋅c + b⋅c   a⋅b - a⋅c - b  + b⋅c   a⋅b - a⋅c - b⋅c + c ⎠   a  - a⋅\n",
       "\n",
       "Ya⋅b⋅c                 Yb⋅a⋅c                 Yc⋅a⋅b       \n",
       "───────────── - ──────────────────── + ────────────────────\n",
       "                             2                            2\n",
       "b - a⋅c + b⋅c   a⋅b - a⋅c - b  + b⋅c   a⋅b - a⋅c - b⋅c + c "
      ]
     },
     "execution_count": 4,
     "metadata": {},
     "output_type": "execute_result"
    }
   ],
   "source": [
    "Q = C[1] + C[2]*X + C[3]*X^2"
   ]
  },
  {
   "cell_type": "code",
   "execution_count": 5,
   "metadata": {},
   "outputs": [
    {
     "data": {
      "text/latex": [
       "\\begin{equation*}\\frac{Ya \\left(- X + b\\right) \\left(- X + c\\right)}{\\left(a - b\\right) \\left(a - c\\right)} - \\frac{Yb \\left(- X + a\\right) \\left(- X + c\\right)}{\\left(a - b\\right) \\left(b - c\\right)} + \\frac{Yc \\left(- X + a\\right) \\left(- X + b\\right)}{\\left(a - c\\right) \\left(b - c\\right)}\\end{equation*}"
      ],
      "text/plain": [
       "Ya⋅(-X + b)⋅(-X + c)   Yb⋅(-X + a)⋅(-X + c)   Yc⋅(-X + a)⋅(-X + b)\n",
       "──────────────────── - ──────────────────── + ────────────────────\n",
       "  (a - b)⋅(a - c)        (a - b)⋅(b - c)        (a - c)⋅(b - c)   "
      ]
     },
     "execution_count": 5,
     "metadata": {},
     "output_type": "execute_result"
    }
   ],
   "source": [
    "Q = factor(subs(Q, (Yb, 0), (Yc, 0))) + factor(subs(Q, (Ya, 0), (Yc, 0))) + factor(subs(Q, (Ya, 0), (Yb, 0)))"
   ]
  },
  {
   "cell_type": "code",
   "execution_count": 6,
   "metadata": {},
   "outputs": [
    {
     "data": {
      "text/latex": [
       "\\begin{equation*}- \\frac{Ya \\left(- X + b\\right)}{\\left(a - b\\right) \\left(a - c\\right)} - \\frac{Ya \\left(- X + c\\right)}{\\left(a - b\\right) \\left(a - c\\right)} + \\frac{Yb \\left(- X + a\\right)}{\\left(a - b\\right) \\left(b - c\\right)} + \\frac{Yb \\left(- X + c\\right)}{\\left(a - b\\right) \\left(b - c\\right)} - \\frac{Yc \\left(- X + a\\right)}{\\left(a - c\\right) \\left(b - c\\right)} - \\frac{Yc \\left(- X + b\\right)}{\\left(a - c\\right) \\left(b - c\\right)}\\end{equation*}"
      ],
      "text/plain": [
       "    Ya⋅(-X + b)       Ya⋅(-X + c)       Yb⋅(-X + a)       Yb⋅(-X + c)       Yc\n",
       "- ─────────────── - ─────────────── + ─────────────── + ─────────────── - ────\n",
       "  (a - b)⋅(a - c)   (a - b)⋅(a - c)   (a - b)⋅(b - c)   (a - b)⋅(b - c)   (a -\n",
       "\n",
       "⋅(-X + a)       Yc⋅(-X + b)  \n",
       "─────────── - ───────────────\n",
       " c)⋅(b - c)   (a - c)⋅(b - c)"
      ]
     },
     "execution_count": 6,
     "metadata": {},
     "output_type": "execute_result"
    }
   ],
   "source": [
    "dQ = diff(Q, X)"
   ]
  },
  {
   "cell_type": "code",
   "execution_count": 7,
   "metadata": {},
   "outputs": [
    {
     "data": {
      "text/latex": [
       "\\[ \\left[ \\begin{array}{r}\\frac{- Ya b^{2} + Ya c^{2} + Yb a^{2} - Yb c^{2} - Yc a^{2} + Yc b^{2}}{2 \\left(- Ya b + Ya c + Yb a - Yb c - Yc a + Yc b\\right)}\\end{array} \\right] \\]"
      ],
      "text/plain": [
       "1-element Array{Sym,1}:\n",
       " (-Ya*b^2 + Ya*c^2 + Yb*a^2 - Yb*c^2 - Yc*a^2 + Yc*b^2)/(2*(-Ya*b + Ya*c + Yb*a - Yb*c - Yc*a + Yc*b))"
      ]
     },
     "execution_count": 7,
     "metadata": {},
     "output_type": "execute_result"
    }
   ],
   "source": [
    "dQ = solve(dQ, X)"
   ]
  },
  {
   "cell_type": "code",
   "execution_count": 8,
   "metadata": {},
   "outputs": [
    {
     "data": {
      "text/latex": [
       "\\begin{equation*}\\frac{- Yc a^{2} + Yc b^{2}}{2 \\left(- Yc a + Yc b\\right)} + \\frac{Yb a^{2} - Yb c^{2}}{2 \\left(Yb a - Yb c\\right)} + \\frac{- Ya b^{2} + Ya c^{2}}{2 \\left(- Ya b + Ya c\\right)}\\end{equation*}"
      ],
      "text/plain": [
       "      2       2         2       2          2       2 \n",
       "- Yc⋅a  + Yc⋅b      Yb⋅a  - Yb⋅c     - Ya⋅b  + Ya⋅c  \n",
       "──────────────── + ─────────────── + ────────────────\n",
       "2⋅(-Yc⋅a + Yc⋅b)   2⋅(Yb⋅a - Yb⋅c)   2⋅(-Ya⋅b + Ya⋅c)"
      ]
     },
     "execution_count": 8,
     "metadata": {},
     "output_type": "execute_result"
    }
   ],
   "source": [
    "dQx = subs(dQ[1], (Yb, 0), (Yc, 0)) + subs(dQ[1], (Ya, 0), (Yc, 0)) + subs(dQ[1], (Ya, 0), (Yb, 0))"
   ]
  },
  {
   "cell_type": "code",
   "execution_count": null,
   "metadata": {},
   "outputs": [],
   "source": []
  }
 ],
 "metadata": {
  "kernelspec": {
   "display_name": "Julia 1.5.2",
   "language": "julia",
   "name": "julia-1.5"
  },
  "language_info": {
   "file_extension": ".jl",
   "mimetype": "application/julia",
   "name": "julia",
   "version": "1.5.2"
  }
 },
 "nbformat": 4,
 "nbformat_minor": 4
}
