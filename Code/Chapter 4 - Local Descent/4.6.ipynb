{
 "cells": [
  {
   "cell_type": "code",
   "execution_count": 8,
   "metadata": {},
   "outputs": [
    {
     "data": {
      "text/plain": [
       "solve_trust_region_subproblem (generic function with 1 method)"
      ]
     },
     "execution_count": 8,
     "metadata": {},
     "output_type": "execute_result"
    }
   ],
   "source": [
    "using Convex, SCS\n",
    "\n",
    "x0 = [-1.75,-1.75]\n",
    "f = x -> (1-x[1])^2 + 5*(x[2] - x[1]^2)^2\n",
    "∇f = x -> [2*(10*x[1]^3-10*x[1]*x[2]+x[1]-1), 10*(x[2]-x[1]^2)]\n",
    "H = x -> [-20*(x[2] - x[1]^2) + 40*x[1]^2+2    -20*x[1]; \n",
    "          -20*x[1]                                  10] \n",
    "\n",
    "function trust_region_descent(f, ∇f, H, x, k_max;\n",
    "    η1=0.25, η2=0.5, γ1=0.5, γ2=2.0, δ=2.0)\n",
    "    y = f(x)\n",
    "    \n",
    "    for k in 1 : k_max\n",
    "        x′, y′ = solve_trust_region_subproblem(f, ∇f, H, x, δ)\n",
    "        r = (y - f(x′)) / (y - y′)\n",
    "        if r < η1\n",
    "            δ *= γ1\n",
    "        else\n",
    "            x, y = x′, y′\n",
    "            if r > η2\n",
    "                δ *= γ2\n",
    "            end\n",
    "        end\n",
    "    end\n",
    "    return x\n",
    "end\n",
    "\n",
    "function solve_trust_region_subproblem(f, ∇f, H, x0, δ)\n",
    "    x = Variable(length(x0))\n",
    "    p = minimize(f(x0) + ∇f(x0)'*(x-x0) + quadform(x-x0, H(x0))/2)\n",
    "    p.constraints += norm(x-x0) <= δ\n",
    "    solve!(p, SCS.Optimizer(verbose=false))\n",
    "    return (x.value, p.optval)\n",
    "end"
   ]
  },
  {
   "cell_type": "code",
   "execution_count": 7,
   "metadata": {},
   "outputs": [
    {
     "data": {
      "text/plain": [
       "2×1 Array{Float64,2}:\n",
       " 1.0000000000753706\n",
       " 1.000000000109109"
      ]
     },
     "execution_count": 7,
     "metadata": {},
     "output_type": "execute_result"
    }
   ],
   "source": [
    "trust_region_descent(f, ∇f, H, x0, 200)"
   ]
  },
  {
   "cell_type": "code",
   "execution_count": null,
   "metadata": {},
   "outputs": [],
   "source": []
  }
 ],
 "metadata": {
  "kernelspec": {
   "display_name": "Julia 1.5.2",
   "language": "julia",
   "name": "julia-1.5"
  },
  "language_info": {
   "file_extension": ".jl",
   "mimetype": "application/julia",
   "name": "julia",
   "version": "1.5.2"
  }
 },
 "nbformat": 4,
 "nbformat_minor": 4
}
