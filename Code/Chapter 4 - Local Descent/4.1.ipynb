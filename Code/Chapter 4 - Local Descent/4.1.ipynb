{
 "cells": [
  {
   "cell_type": "code",
   "execution_count": 8,
   "metadata": {},
   "outputs": [
    {
     "data": {
      "text/plain": [
       "146.32245652940227"
      ]
     },
     "execution_count": 8,
     "metadata": {},
     "output_type": "execute_result"
    }
   ],
   "source": [
    "x = [1,2,3]\n",
    "d = [0, -1, -1]\n",
    "f(x) = sin(x[1]*x[2]) + exp(x[2] + x[3]) - x[3]\n",
    "f(x)"
   ]
  },
  {
   "cell_type": "code",
   "execution_count": 3,
   "metadata": {},
   "outputs": [
    {
     "data": {
      "text/plain": [
       "bracket_minimum (generic function with 2 methods)"
      ]
     },
     "execution_count": 3,
     "metadata": {},
     "output_type": "execute_result"
    }
   ],
   "source": [
    "function bracket_minimum(f, x=0; s=1e-2, k=2.0)\n",
    "    a, ya = x, f(x)\n",
    "    b, yb = a + s, f(a + s)\n",
    "    if yb > ya\n",
    "        a, b = b, a\n",
    "        ya, yb = yb, ya\n",
    "        s = -s\n",
    "    end\n",
    "\n",
    "    while true\n",
    "        c, yc = b + s, f(b + s)\n",
    "        if yc > yb\n",
    "            return a < c ? (a, c) : (c, a)\n",
    "        end\n",
    "        a, ya, b, yb = b, yb, c, yc\n",
    "        s *= k\n",
    "    end\n",
    "end"
   ]
  },
  {
   "cell_type": "code",
   "execution_count": 4,
   "metadata": {},
   "outputs": [
    {
     "data": {
      "text/plain": [
       "fibonacci_search (generic function with 1 method)"
      ]
     },
     "execution_count": 4,
     "metadata": {},
     "output_type": "execute_result"
    }
   ],
   "source": [
    "using Base.MathConstants\n",
    "function fibonacci_search(f, a, b, n; ϵ=0.002)\n",
    "    s = (1-√5)/(1+√5)\n",
    "    ρ = 1 / (φ*(1-s^(n+1))/(1-s^n))\n",
    "    d = ρ*b + (1-ρ)*a\n",
    "    yd = f(d)\n",
    "    for i in 1 : n-1\n",
    "        if i == n-1\n",
    "            c = ϵ*a + (1-ϵ)*d\n",
    "        else\n",
    "            c = ρ*a + (1-ρ)*b\n",
    "        end\n",
    "        yc = f(c)\n",
    "        if yc < yd\n",
    "            b, d, yd = d, c, yc\n",
    "        else\n",
    "            a, b = b, c\n",
    "        end\n",
    "        ρ = 1 / (φ*(1-s^(n-i+1))/(1-s^(n-i)))\n",
    "    end\n",
    "    return a < b ? (a, b) : (b, a)\n",
    "end"
   ]
  },
  {
   "cell_type": "code",
   "execution_count": 5,
   "metadata": {},
   "outputs": [
    {
     "data": {
      "text/plain": [
       "line_search (generic function with 1 method)"
      ]
     },
     "execution_count": 5,
     "metadata": {},
     "output_type": "execute_result"
    }
   ],
   "source": [
    "function line_search(f, x, d)\n",
    "    objective = α -> f(x + α*d)\n",
    "    a, b = bracket_minimum(objective)\n",
    "    α = fibonacci_search(objective, a, b, 100)\n",
    "    return x + (sum(α)/2)*d, sum(α)/2\n",
    "end"
   ]
  },
  {
   "cell_type": "code",
   "execution_count": 9,
   "metadata": {},
   "outputs": [
    {
     "name": "stdout",
     "output_type": "stream",
     "text": [
      "  0.129130 seconds (195.42 k allocations: 9.586 MiB)\n"
     ]
    },
    {
     "data": {
      "text/plain": [
       "([1.0, -1.127045614034552, -0.12704561403455195], 3.127045614034552)"
      ]
     },
     "execution_count": 9,
     "metadata": {},
     "output_type": "execute_result"
    }
   ],
   "source": [
    "@time x, α = line_search(f, x, d)"
   ]
  },
  {
   "cell_type": "code",
   "execution_count": 7,
   "metadata": {},
   "outputs": [
    {
     "data": {
      "text/plain": [
       "-0.49076707749177784"
      ]
     },
     "execution_count": 7,
     "metadata": {},
     "output_type": "execute_result"
    }
   ],
   "source": [
    "f(x)"
   ]
  },
  {
   "cell_type": "code",
   "execution_count": null,
   "metadata": {},
   "outputs": [],
   "source": []
  }
 ],
 "metadata": {
  "kernelspec": {
   "display_name": "Julia 1.5.3",
   "language": "julia",
   "name": "julia-1.5"
  },
  "language_info": {
   "file_extension": ".jl",
   "mimetype": "application/julia",
   "name": "julia",
   "version": "1.5.3"
  }
 },
 "nbformat": 4,
 "nbformat_minor": 4
}
