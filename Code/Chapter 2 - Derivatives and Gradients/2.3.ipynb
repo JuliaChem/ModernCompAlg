{
 "cells": [
  {
   "cell_type": "code",
   "execution_count": 6,
   "metadata": {},
   "outputs": [
    {
     "data": {
      "text/latex": [
       "\\begin{equation*}x_{1} x_{2}\\end{equation*}"
      ],
      "text/plain": [
       "x₁⋅x₂"
      ]
     },
     "execution_count": 6,
     "metadata": {},
     "output_type": "execute_result"
    }
   ],
   "source": [
    "# Computing directional derivative\n",
    "\n",
    "using SymPy\n",
    "@vars x1 x2\n",
    "\n",
    "x = [1.0,0.0]\n",
    "s = [-1;-1]\n",
    "f = x1*x2"
   ]
  },
  {
   "cell_type": "code",
   "execution_count": 8,
   "metadata": {},
   "outputs": [
    {
     "data": {
      "text/latex": [
       "\\begin{equation*}\\left[\\begin{matrix}x_{2}\\\\x_{1}\\end{matrix}\\right]\\end{equation*}"
      ],
      "text/plain": [
       "⎡x₂⎤\n",
       "⎢  ⎥\n",
       "⎣x₁⎦"
      ]
     },
     "execution_count": 8,
     "metadata": {},
     "output_type": "execute_result"
    }
   ],
   "source": [
    "∇f = diff(f, [x1, x2])"
   ]
  },
  {
   "cell_type": "code",
   "execution_count": 11,
   "metadata": {},
   "outputs": [
    {
     "data": {
      "text/plain": [
       "-1.0"
      ]
     },
     "execution_count": 11,
     "metadata": {},
     "output_type": "execute_result"
    }
   ],
   "source": [
    "∇f = subs(∇f, (x1, 1), (x2, 0))\n",
    "∇fn = zeros(length(x))\n",
    "for i=0:length(x)-1\n",
    "    ∇fn[i+1] = N(∇f[i])\n",
    "end\n",
    "\n",
    "∇sfn = ∇fn' * s"
   ]
  },
  {
   "cell_type": "code",
   "execution_count": 12,
   "metadata": {},
   "outputs": [
    {
     "data": {
      "text/plain": [
       "f2 (generic function with 1 method)"
      ]
     },
     "execution_count": 12,
     "metadata": {},
     "output_type": "execute_result"
    }
   ],
   "source": [
    "# Method 2\n",
    "# g(α) ≡ f(x + αs)\n",
    "\n",
    "using SymPy\n",
    "@vars x1 x2 α\n",
    "f2(x1,x2) = x1*x2"
   ]
  },
  {
   "cell_type": "code",
   "execution_count": 13,
   "metadata": {},
   "outputs": [
    {
     "name": "stdout",
     "output_type": "stream",
     "text": [
      "α^2 - 1.0*α"
     ]
    }
   ],
   "source": [
    "gα = f2(x[1] + α*s[1], x[2] + α*s[2])\n",
    "print(expand(gα))"
   ]
  },
  {
   "cell_type": "code",
   "execution_count": 14,
   "metadata": {},
   "outputs": [
    {
     "data": {
      "text/latex": [
       "\\begin{equation*}2 α - 1.0\\end{equation*}"
      ],
      "text/plain": [
       "2⋅α - 1.0"
      ]
     },
     "execution_count": 14,
     "metadata": {},
     "output_type": "execute_result"
    }
   ],
   "source": [
    "dgα = diff(gα, α)"
   ]
  },
  {
   "cell_type": "code",
   "execution_count": 15,
   "metadata": {},
   "outputs": [
    {
     "name": "stdout",
     "output_type": "stream",
     "text": [
      "-1.0"
     ]
    }
   ],
   "source": [
    "dgn = subs(dgα, (α, 0))\n",
    "print(N(dgn))"
   ]
  },
  {
   "cell_type": "code",
   "execution_count": null,
   "metadata": {},
   "outputs": [],
   "source": []
  }
 ],
 "metadata": {
  "kernelspec": {
   "display_name": "Julia 1.5.2",
   "language": "julia",
   "name": "julia-1.5"
  },
  "language_info": {
   "file_extension": ".jl",
   "mimetype": "application/julia",
   "name": "julia",
   "version": "1.5.2"
  }
 },
 "nbformat": 4,
 "nbformat_minor": 4
}
