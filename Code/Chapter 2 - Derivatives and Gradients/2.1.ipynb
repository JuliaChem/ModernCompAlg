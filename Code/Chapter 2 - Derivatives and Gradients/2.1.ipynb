{
 "cells": [
  {
   "cell_type": "code",
   "execution_count": 12,
   "metadata": {},
   "outputs": [
    {
     "data": {
      "text/latex": [
       "\\begin{equation*}x_{1}^{2} + \\frac{x_{2}}{2} - \\frac{\\sin{\\left(x_{2} \\right)}}{x_{1}}\\end{equation*}"
      ],
      "text/plain": [
       "  2   x₂   sin(x₂)\n",
       "x₁  + ── - ───────\n",
       "      2       x₁  "
      ]
     },
     "execution_count": 12,
     "metadata": {},
     "output_type": "execute_result"
    }
   ],
   "source": [
    "using SymPy\n",
    "@vars x1 x2 # Define x as a symbolic variable\n",
    "f = x1^2 + x2/2 - sin(x2)/x1"
   ]
  },
  {
   "cell_type": "code",
   "execution_count": 13,
   "metadata": {},
   "outputs": [
    {
     "data": {
      "text/latex": [
       "\\begin{equation*}2 x_{1} + \\frac{\\sin{\\left(x_{2} \\right)}}{x_{1}^{2}}\\end{equation*}"
      ],
      "text/plain": [
       "       sin(x₂)\n",
       "2⋅x₁ + ───────\n",
       "           2  \n",
       "         x₁   "
      ]
     },
     "execution_count": 13,
     "metadata": {},
     "output_type": "execute_result"
    }
   ],
   "source": [
    "diff(f,x1)"
   ]
  },
  {
   "cell_type": "code",
   "execution_count": 14,
   "metadata": {},
   "outputs": [
    {
     "data": {
      "text/latex": [
       "\\begin{equation*}\\frac{1}{2} - \\frac{\\cos{\\left(x_{2} \\right)}}{x_{1}}\\end{equation*}"
      ],
      "text/plain": [
       "1   cos(x₂)\n",
       "─ - ───────\n",
       "2      x₁  "
      ]
     },
     "execution_count": 14,
     "metadata": {},
     "output_type": "execute_result"
    }
   ],
   "source": [
    "diff(f,x2)"
   ]
  },
  {
   "cell_type": "code",
   "execution_count": null,
   "metadata": {},
   "outputs": [],
   "source": []
  }
 ],
 "metadata": {
  "kernelspec": {
   "display_name": "Julia 1.5.2",
   "language": "julia",
   "name": "julia-1.5"
  },
  "language_info": {
   "file_extension": ".jl",
   "mimetype": "application/julia",
   "name": "julia",
   "version": "1.5.2"
  }
 },
 "nbformat": 4,
 "nbformat_minor": 4
}
