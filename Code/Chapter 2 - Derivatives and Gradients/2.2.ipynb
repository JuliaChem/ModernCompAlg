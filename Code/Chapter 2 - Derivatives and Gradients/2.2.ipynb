{
 "cells": [
  {
   "cell_type": "code",
   "execution_count": 5,
   "metadata": {},
   "outputs": [
    {
     "data": {
      "text/latex": [
       "\\begin{equation*}x_{1} \\sin{\\left(x_{2} \\right)} + 1\\end{equation*}"
      ],
      "text/plain": [
       "x₁⋅sin(x₂) + 1"
      ]
     },
     "execution_count": 5,
     "metadata": {},
     "output_type": "execute_result"
    }
   ],
   "source": [
    "using SymPy\n",
    "@vars x1 x2\n",
    "f = x1*sin(x2) + 1"
   ]
  },
  {
   "cell_type": "code",
   "execution_count": 6,
   "metadata": {},
   "outputs": [
    {
     "data": {
      "text/latex": [
       "\\begin{equation*}\\left[\\begin{matrix}\\sin{\\left(x_{2} \\right)}\\\\x_{1} \\cos{\\left(x_{2} \\right)}\\end{matrix}\\right]\\end{equation*}"
      ],
      "text/plain": [
       "⎡ sin(x₂)  ⎤\n",
       "⎢          ⎥\n",
       "⎣x₁⋅cos(x₂)⎦"
      ]
     },
     "execution_count": 6,
     "metadata": {},
     "output_type": "execute_result"
    }
   ],
   "source": [
    "∇f = diff(f, [x1, x2])"
   ]
  },
  {
   "cell_type": "code",
   "execution_count": 7,
   "metadata": {},
   "outputs": [
    {
     "data": {
      "text/latex": [
       "\\begin{equation*}\\left[\\begin{matrix}0\\\\2\\end{matrix}\\right]\\end{equation*}"
      ],
      "text/plain": [
       "⎡0⎤\n",
       "⎢ ⎥\n",
       "⎣2⎦"
      ]
     },
     "execution_count": 7,
     "metadata": {},
     "output_type": "execute_result"
    }
   ],
   "source": [
    "subs(∇f, (x1, 2), (x2, 0))"
   ]
  },
  {
   "cell_type": "code",
   "execution_count": null,
   "metadata": {},
   "outputs": [],
   "source": []
  }
 ],
 "metadata": {
  "kernelspec": {
   "display_name": "Julia 1.5.2",
   "language": "julia",
   "name": "julia-1.5"
  },
  "language_info": {
   "file_extension": ".jl",
   "mimetype": "application/julia",
   "name": "julia",
   "version": "1.5.2"
  }
 },
 "nbformat": 4,
 "nbformat_minor": 4
}
