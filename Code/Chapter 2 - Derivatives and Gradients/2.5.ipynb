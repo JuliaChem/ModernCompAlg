{
 "cells": [
  {
   "cell_type": "code",
   "execution_count": 2,
   "metadata": {},
   "outputs": [
    {
     "data": {
      "text/latex": [
       "\\begin{equation*}f{\\left(i h + x \\right)}\\end{equation*}"
      ],
      "text/plain": [
       "f(ⅈ⋅h + x)"
      ]
     },
     "execution_count": 2,
     "metadata": {},
     "output_type": "execute_result"
    }
   ],
   "source": [
    "using SymPy\n",
    "\n",
    "@vars h x\n",
    "f = SymFunction(\"f\")\n",
    "f1 = f(x + im*h)"
   ]
  },
  {
   "cell_type": "code",
   "execution_count": 7,
   "metadata": {},
   "outputs": [
    {
     "data": {
      "text/latex": [
       "\\begin{equation*}f{\\left(x \\right)} + i h \\left. \\frac{d}{d \\xi_{1}} f{\\left(\\xi_{1} \\right)} \\right|_{\\substack{ \\xi_{1}=x }} + O\\left(h^{2}\\right)\\end{equation*}"
      ],
      "text/plain": [
       "           ⎛ d        ⎞│        ⎛ 2⎞\n",
       "f(x) + ⅈ⋅h⋅⎜───(f(ξ₁))⎟│     + O⎝h ⎠\n",
       "           ⎝dξ₁       ⎠│ξ₁=x        "
      ]
     },
     "execution_count": 7,
     "metadata": {},
     "output_type": "execute_result"
    }
   ],
   "source": [
    "T1 = series(f1, h, 0, 2)"
   ]
  },
  {
   "cell_type": "code",
   "execution_count": 8,
   "metadata": {},
   "outputs": [
    {
     "data": {
      "text/latex": [
       "\\begin{equation*}i h \\left. \\frac{d}{d \\xi_{1}} f{\\left(\\xi_{1} \\right)} \\right|_{\\substack{ \\xi_{1}=x }} + f{\\left(x \\right)}\\end{equation*}"
      ],
      "text/plain": [
       "    ⎛ d        ⎞│           \n",
       "ⅈ⋅h⋅⎜───(f(ξ₁))⎟│     + f(x)\n",
       "    ⎝dξ₁       ⎠│ξ₁=x       "
      ]
     },
     "execution_count": 8,
     "metadata": {},
     "output_type": "execute_result"
    }
   ],
   "source": [
    "T1 = T1.removeO()"
   ]
  },
  {
   "cell_type": "code",
   "execution_count": 9,
   "metadata": {},
   "outputs": [
    {
     "data": {
      "text/latex": [
       "\\begin{equation*}\\operatorname{re}{\\left(h \\left. \\frac{d}{d \\xi_{1}} f{\\left(\\xi_{1} \\right)} \\right|_{\\substack{ \\xi_{1}=x }}\\right)} + \\operatorname{im}{\\left(f{\\left(x \\right)}\\right)}\\end{equation*}"
      ],
      "text/plain": [
       "  ⎛  ⎛ d        ⎞│    ⎞           \n",
       "re⎜h⋅⎜───(f(ξ₁))⎟│    ⎟ + im(f(x))\n",
       "  ⎝  ⎝dξ₁       ⎠│ξ₁=x⎠           "
      ]
     },
     "execution_count": 9,
     "metadata": {},
     "output_type": "execute_result"
    }
   ],
   "source": [
    "T1Imag = imag(T1)"
   ]
  },
  {
   "cell_type": "code",
   "execution_count": 10,
   "metadata": {},
   "outputs": [
    {
     "data": {
      "text/latex": [
       "\\begin{equation*}\\operatorname{re}{\\left(f{\\left(x \\right)}\\right)} - \\operatorname{im}{\\left(h \\left. \\frac{d}{d \\xi_{1}} f{\\left(\\xi_{1} \\right)} \\right|_{\\substack{ \\xi_{1}=x }}\\right)}\\end{equation*}"
      ],
      "text/plain": [
       "             ⎛  ⎛ d        ⎞│    ⎞\n",
       "re(f(x)) - im⎜h⋅⎜───(f(ξ₁))⎟│    ⎟\n",
       "             ⎝  ⎝dξ₁       ⎠│ξ₁=x⎠"
      ]
     },
     "execution_count": 10,
     "metadata": {},
     "output_type": "execute_result"
    }
   ],
   "source": [
    "T1Imag = real(T1)"
   ]
  },
  {
   "cell_type": "code",
   "execution_count": null,
   "metadata": {},
   "outputs": [],
   "source": []
  }
 ],
 "metadata": {
  "kernelspec": {
   "display_name": "Julia 1.5.2",
   "language": "julia",
   "name": "julia-1.5"
  },
  "language_info": {
   "file_extension": ".jl",
   "mimetype": "application/julia",
   "name": "julia",
   "version": "1.5.2"
  }
 },
 "nbformat": 4,
 "nbformat_minor": 4
}
